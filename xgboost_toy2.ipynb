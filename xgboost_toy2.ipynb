{
 "cells": [
  {
   "cell_type": "code",
   "execution_count": 1,
   "metadata": {},
   "outputs": [],
   "source": [
    "# import moduel은 그냥 복붙한거라서 어떤게 맞을지 잘 모릅니다\n",
    "\n",
    "import numpy as np\n",
    "import pandas as pd\n",
    "from scipy.stats import uniform, randint\n",
    "\n",
    "from sklearn.datasets import load_breast_cancer, load_diabetes, load_wine\n",
    "from sklearn.metrics import auc, accuracy_score, confusion_matrix, mean_squared_error, roc_auc_score\n",
    "from sklearn.model_selection import cross_val_score, GridSearchCV, KFold, RandomizedSearchCV, train_test_split\n",
    "\n",
    "import xgboost as xgb\n",
    "import optuna\n",
    "from optuna.samplers import TPESampler\n",
    "from sklearn.model_selection import train_test_split, StratifiedKFold\n",
    "from sklearn.preprocessing import LabelEncoder\n",
    "from sklearn.metrics import roc_curve, auc\n",
    "from tqdm import tnrange, tqdm\n",
    "\n",
    "import torch\n",
    "import torch.optim as optim\n",
    "import torch.nn as nn\n",
    "import torch.nn.functional as F\n",
    "\n",
    "import catboost\n",
    "from catboost import CatBoostClassifier\n",
    "from pytorch_tabnet.tab_model import TabNetClassifier\n",
    "from sklearn.preprocessing import LabelEncoder\n",
    "\n",
    "import matplotlib.pyplot as plt\n",
    "import seaborn as sns\n",
    "import warnings\n",
    "warnings.simplefilter(action='ignore', category=FutureWarning)\n",
    "from pandas.core.common import SettingWithCopyWarning\n",
    "warnings.simplefilter(action=\"ignore\", category=SettingWithCopyWarning)"
   ]
  },
  {
   "cell_type": "code",
   "execution_count": 3,
   "metadata": {},
   "outputs": [],
   "source": [
    "def fill_na_mode(data):                   # fill with mode. (최빈값 fillna)\n",
    "    fill_null_list = list(data.columns)\n",
    "    fill_null_list.remove('TIPI10')\n",
    "    for col in fill_null_list:\n",
    "        data[col].fillna(data[col].mode()[0],inplace=True)\n",
    "    data['TIPI10'].fillna(1,inplace=True)\n",
    "\n",
    "    return data\n",
    "\n",
    "def encoding_label(data):                          # Encoding Label\n",
    "    encoder = LabelEncoder()\n",
    "    label_encoded = encoder.fit_transform(data['country'])\n",
    "    data['country'] = label_encoded    \n",
    "  \n",
    "    return data\n",
    "\n",
    "def del_outlier(data):\n",
    "    q_list = [i for i in data.columns if \"Q\" in i]\n",
    "    q_drop_index = train_df[data[q_list].isnull().sum(1)==26].index\n",
    "    tipi_list = [i for i in data.columns if \"TIPI\" in i]\n",
    "    tipi_drop_index = data[data[tipi_list].isnull().sum(1)>3].index\n",
    "    familysize_drop_index = data[data['familysize']>10].index\n",
    "    age_drop_index = data[data['age']>=100].index\n",
    "\n",
    "    drop_index = list(tipi_drop_index)+list(q_drop_index)+list(familysize_drop_index)+list(age_drop_index)\n",
    "    data.drop(drop_index,inplace = True)\n",
    "    data.reset_index(drop = True,inplace=True)\n",
    "\n",
    "    return data\n",
    "\n",
    "def processing_data(data, idx = \"train\"):      # 데이터 전처리 함수\n",
    "    data = fill_na_mode(data)\n",
    "    data = encoding_label(data)\n",
    "\n",
    "    if idx == 'train':\n",
    "        data = del_outlier(data)\n",
    "    return data"
   ]
  },
  {
   "cell_type": "code",
   "execution_count": 15,
   "metadata": {},
   "outputs": [],
   "source": [
    "pd.set_option('display.max_columns', None)\n",
    "pd.set_option('display.max_rows', None)"
   ]
  },
  {
   "cell_type": "code",
   "execution_count": 38,
   "metadata": {},
   "outputs": [],
   "source": [
    "# 경로는 개인에 맞게 맞춰서 조정하시면 됩니다\n",
    "\n",
    "train_df = pd.read_csv('./competition_data/train.csv')\n",
    "test_df = pd.read_csv('./competition_data/test.csv')\n",
    "sample_submission = pd.read_csv('./competition_data/sample_submission.csv')\n",
    "\n",
    "train_df = processing_data(train_df)\n",
    "test_df = processing_data(test_df, idx = \"test\")\n",
    "\n",
    "train_Y = train_df['nerdiness']\n",
    "train_X = train_df.drop('nerdiness', axis = 1)"
   ]
  },
  {
   "cell_type": "code",
   "execution_count": 39,
   "metadata": {},
   "outputs": [],
   "source": [
    "params = {'lambda': 9.052528986664745, \n",
    "          'alpha': 0.0010381252728911819, \n",
    "          'colsample_bytree': 0.3, \n",
    "          'subsample': 1.0, \n",
    "          'learning_rate': 0.016, \n",
    "          'max_depth': 5, \n",
    "          'random_state': 2020, \n",
    "          'min_child_weight': 11}\n",
    "xgb_model = xgb.XGBClassifier(**params)\n",
    "xgb_model.fit(train_X, train_Y)\n",
    "\n",
    "y_pred = xgb_model.predict(test_df)\n",
    "sample_submission['nerdiness'] = y_pred"
   ]
  },
  {
   "cell_type": "code",
   "execution_count": 40,
   "metadata": {},
   "outputs": [
    {
     "data": {
      "text/plain": [
       "array([1, 1, 1, ..., 1, 1, 1])"
      ]
     },
     "execution_count": 40,
     "metadata": {},
     "output_type": "execute_result"
    }
   ],
   "source": [
    "y_pred"
   ]
  },
  {
   "cell_type": "code",
   "execution_count": 41,
   "metadata": {},
   "outputs": [],
   "source": [
    "sample_submission.to_csv('./sample_submission.csv', index=None)"
   ]
  },
  {
   "cell_type": "code",
   "execution_count": null,
   "metadata": {},
   "outputs": [],
   "source": [
    "sam"
   ]
  }
 ],
 "metadata": {
  "kernelspec": {
   "display_name": "Python 3.8.9 64-bit",
   "language": "python",
   "name": "python3"
  },
  "language_info": {
   "codemirror_mode": {
    "name": "ipython",
    "version": 3
   },
   "file_extension": ".py",
   "mimetype": "text/x-python",
   "name": "python",
   "nbconvert_exporter": "python",
   "pygments_lexer": "ipython3",
   "version": "3.8.9"
  },
  "orig_nbformat": 4,
  "vscode": {
   "interpreter": {
    "hash": "31f2aee4e71d21fbe5cf8b01ff0e069b9275f58929596ceb00d14d90e3e16cd6"
   }
  }
 },
 "nbformat": 4,
 "nbformat_minor": 2
}
